{
 "cells": [
  {
   "cell_type": "markdown",
   "metadata": {},
   "source": [
    "### 正则表达"
   ]
  },
  {
   "cell_type": "code",
   "execution_count": 1,
   "metadata": {},
   "outputs": [
    {
     "data": {
      "text/plain": [
       "['18611696673']"
      ]
     },
     "execution_count": 1,
     "metadata": {},
     "output_type": "execute_result"
    }
   ],
   "source": [
    "import re\n",
    "phone_reg = re.compile(r\"(1[35678]\\d{9})\")\n",
    "re.findall(phone_reg,'合作联系方式联系：18611696673 歌手，萨达')"
   ]
  },
  {
   "cell_type": "markdown",
   "metadata": {},
   "source": [
    "### 传统 NER\n",
    "\n",
    "https://sklearn-crfsuite.readthedocs.io/en/latest/install.html\n",
    "\n",
    "\n",
    "sklearn-crfsuite (sklearn) -> python-crfsuite (python) -> crfsuite (c)"
   ]
  },
  {
   "cell_type": "code",
   "execution_count": 18,
   "metadata": {},
   "outputs": [
    {
     "data": {
      "text/plain": [
       "<module 'utils.utils' from '/Users/wanjun/Desktop/比赛训练营/DataFoutain隐私识别/DBC_code/src/utils/utils.py'>"
      ]
     },
     "execution_count": 18,
     "metadata": {},
     "output_type": "execute_result"
    }
   ],
   "source": [
    "import glob\n",
    "import sklearn\n",
    "import sklearn_crfsuite\n",
    "from sklearn_crfsuite import scorers\n",
    "from sklearn_crfsuite import metrics\n",
    "from  utils import utils\n",
    "from imp import reload\n",
    "reload(utils)"
   ]
  },
  {
   "cell_type": "code",
   "execution_count": null,
   "metadata": {},
   "outputs": [],
   "source": [
    "tdata_lst = glob('../data/train_data/*.txt')\n",
    "symbol = ['。','!','！','?','？','﹗']\n",
    "# 生成样本的参数\n",
    "symbol = ['？','⋯','…','﹗']\n",
    "max_sent_length = 250\n",
    "max_input_length = 300"
   ]
  },
  {
   "cell_type": "code",
   "execution_count": null,
   "metadata": {},
   "outputs": [],
   "source": [
    "from sklearn.model_selection import train_test_split\n",
    "from glob import glob\n",
    "data_lst = glob('../data/train_data/*.txt')\n",
    "train_lst,val_lst = train_test_split(data_lst,test_size=0.1,random_state=0)\n",
    "print('train:{}'.format(len(train_lst)))\n",
    "print('val:{}'.format(len(val_lst)))"
   ]
  },
  {
   "cell_type": "code",
   "execution_count": null,
   "metadata": {},
   "outputs": [],
   "source": [
    "data_dir = '../data/train_label'\n",
    "for data_path in tqdm(train_lst):\n",
    "    file_name = os.path.basename(data_path).split('.')[0]\n",
    "    label_path = file_name+'.csv'\n",
    "    label_path = os.path.join(data_dir,label_path)\n",
    "    output_path = '../data/train_new_bioes'\n",
    "    output_file = file_name\n",
    "    utils.gen_data(label_path, data_path, output_path, output_file,symbol,max_sent_length,max_input_length,bioes = True)\n",
    "for data_path in tqdm(val_lst):\n",
    "    file_name = os.path.basename(data_path).split('.')[0]\n",
    "    label_path = file_name+'.csv'\n",
    "    label_path = os.path.join(data_dir,label_path)\n",
    "    output_path = '../data/val_new_bioes'\n",
    "    output_file = file_name\n",
    "    utils.gen_data(label_path, data_path, output_path, output_file,symbol,max_sent_length,max_input_length,bioes = True)"
   ]
  },
  {
   "cell_type": "code",
   "execution_count": 41,
   "metadata": {},
   "outputs": [],
   "source": [
    "train_lst = []\n",
    "for i in glob.glob('../data/train_new_bioes/*.txt'):\n",
    "    tmp =utils.read_txt(i)\n",
    "    train_lst.append([(i.split(' ')[0],i.split(' ')[1].split('\\n')[0]) for i in tmp])\n",
    "val_lst = []\n",
    "for i in glob.glob('../data/val_new_bioes/*.txt'):\n",
    "    tmp =utils.read_txt(i)\n",
    "    val_lst.append([(i.split(' ')[0],i.split(' ')[1].split('\\n')[0]) for i in tmp])"
   ]
  },
  {
   "cell_type": "code",
   "execution_count": 36,
   "metadata": {},
   "outputs": [],
   "source": [
    "def sent2features(sent):\n",
    "    return [word2features(sent, i) for i in range(len(sent))]\n",
    "\n",
    "def sent2labels(sent):\n",
    "    return [label for _, label in sent]\n",
    "\n",
    "def sent2tokens(sent):\n",
    "    return [token for ID, token, _ in sent]"
   ]
  },
  {
   "cell_type": "code",
   "execution_count": 39,
   "metadata": {},
   "outputs": [],
   "source": [
    "def word2features(sent, i):\n",
    "    word = sent[i][0]\n",
    "    \n",
    "    features = {\n",
    "        'bias': 1.0,\n",
    "        'word': word\n",
    "    }\n",
    "    \n",
    "    if i > 0:\n",
    "        word = sent[i-1][0]\n",
    "        features.update({\n",
    "            '-1:word': word\n",
    "        })\n",
    "    else:\n",
    "        features['BOS'] = True\n",
    "\n",
    "    if i > 1:\n",
    "        word = sent[i-2][0]\n",
    "        features.update({\n",
    "            '-2:word': word\n",
    "        })\n",
    "    else:\n",
    "        features['BOS'] = True   \n",
    "                \n",
    "        \n",
    "    if i < len(sent)-1:\n",
    "        word = sent[i+1][1]\n",
    "        features.update({\n",
    "            '+1:word': word\n",
    "        })\n",
    "    else:\n",
    "        features['EOS'] = True\n",
    "\n",
    "    if i < len(sent)-2:\n",
    "        word = sent[i+2][1]\n",
    "        features.update({\n",
    "            '+2:word': word\n",
    "        })\n",
    "    else:\n",
    "        features['EOS'] = True\n",
    "        \n",
    "    return features"
   ]
  },
  {
   "cell_type": "code",
   "execution_count": 44,
   "metadata": {},
   "outputs": [
    {
     "name": "stdout",
     "output_type": "stream",
     "text": [
      "CPU times: user 583 ms, sys: 38.8 ms, total: 622 ms\n",
      "Wall time: 622 ms\n"
     ]
    }
   ],
   "source": [
    "%%time\n",
    "X_train = [sent2features(s) for s in train_lst]\n",
    "y_train = [sent2labels(s) for s in train_lst]\n",
    "\n",
    "X_test = [sent2features(s) for s in val_lst]\n",
    "y_test = [sent2labels(s) for s in val_lst]"
   ]
  },
  {
   "cell_type": "code",
   "execution_count": 45,
   "metadata": {},
   "outputs": [
    {
     "name": "stdout",
     "output_type": "stream",
     "text": [
      "CPU times: user 5min, sys: 1 s, total: 5min 1s\n",
      "Wall time: 5min 2s\n"
     ]
    }
   ],
   "source": [
    "%%time\n",
    "crf = sklearn_crfsuite.CRF(\n",
    "    algorithm='lbfgs',\n",
    "    c1=0.1,\n",
    "    c2=0.1,\n",
    "    max_iterations=200,\n",
    "    all_possible_transitions=True\n",
    ")\n",
    "crf.fit(X_train, y_train)"
   ]
  },
  {
   "cell_type": "code",
   "execution_count": null,
   "metadata": {},
   "outputs": [],
   "source": []
  }
 ],
 "metadata": {
  "hide_input": false,
  "kernelspec": {
   "display_name": "python36",
   "language": "python",
   "name": "python36"
  },
  "language_info": {
   "codemirror_mode": {
    "name": "ipython",
    "version": 3
   },
   "file_extension": ".py",
   "mimetype": "text/x-python",
   "name": "python",
   "nbconvert_exporter": "python",
   "pygments_lexer": "ipython3",
   "version": "3.6.8"
  },
  "varInspector": {
   "cols": {
    "lenName": 16,
    "lenType": 16,
    "lenVar": 40
   },
   "kernels_config": {
    "python": {
     "delete_cmd_postfix": "",
     "delete_cmd_prefix": "del ",
     "library": "var_list.py",
     "varRefreshCmd": "print(var_dic_list())"
    },
    "r": {
     "delete_cmd_postfix": ") ",
     "delete_cmd_prefix": "rm(",
     "library": "var_list.r",
     "varRefreshCmd": "cat(var_dic_list()) "
    }
   },
   "types_to_exclude": [
    "module",
    "function",
    "builtin_function_or_method",
    "instance",
    "_Feature"
   ],
   "window_display": false
  }
 },
 "nbformat": 4,
 "nbformat_minor": 2
}
